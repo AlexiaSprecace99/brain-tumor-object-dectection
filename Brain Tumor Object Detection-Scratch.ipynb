{
 "cells": [
  {
   "cell_type": "code",
   "execution_count": 60,
   "id": "0ca9e015",
   "metadata": {},
   "outputs": [],
   "source": [
    "# Data Manipulation\n",
    "import numpy as np\n",
    "import pandas as pd\n",
    "import os\n",
    "# Visualization/Image Processing\n",
    "import cv2\n",
    "import matplotlib.pyplot as plt\n",
    "from tqdm import tqdm\n",
    "# Machine Learning\n",
    "import tensorflow as tf\n",
    "from tensorflow.keras.layers import Conv2D, Input, BatchNormalization, Flatten, MaxPooling2D, Dense, Activation, Dropout\n",
    "from PIL import Image\n",
    "# Other\n",
    "from pathlib import Path\n",
    "from tensorflow.keras.preprocessing.image import ImageDataGenerator\n",
    "from sklearn.utils import shuffle\n",
    "from sklearn.model_selection import train_test_split\n",
    "from tensorflow import keras\n",
    "from tensorflow.keras.applications import EfficientNetB0\n",
    "from tensorflow.keras.applications.vgg16 import VGG16\n",
    "from tensorflow.keras.models import Model\n",
    "import xml.etree.ElementTree as ET\n",
    "from tensorflow.keras.models import Sequential\n",
    "from tensorflow.keras import layers"
   ]
  },
  {
   "cell_type": "code",
   "execution_count": 61,
   "id": "c43f6daa",
   "metadata": {},
   "outputs": [],
   "source": [
    "#Codice per rendere l'immagine quadrata \n",
    "def make_square(im, fill_color=(0, 0, 0, 0)):\n",
    "    x, y = im.shape[0], im.shape[1]\n",
    "    size = max(x, y)\n",
    "    BLACK = [0, 0, 0]\n",
    "    new_im = cv2.copyMakeBorder(im,int((size-y)/2),int((size-y)/2),int((size-x)/2),int((size-x)/2),cv2.BORDER_CONSTANT, value = BLACK)\n",
    "    return new_im"
   ]
  },
  {
   "cell_type": "code",
   "execution_count": 62,
   "id": "4759b91e",
   "metadata": {},
   "outputs": [
    {
     "name": "stderr",
     "output_type": "stream",
     "text": [
      "100%|███████████████████████████████████████████████████████████████████████████████| 296/296 [00:00<00:00, 334.85it/s]\n",
      "100%|███████████████████████████████████████████████████████████████████████████████| 318/318 [00:01<00:00, 165.70it/s]\n",
      "100%|███████████████████████████████████████████████████████████████████████████████| 264/264 [00:01<00:00, 147.17it/s]\n",
      "100%|██████████████████████████████████████████████████████████████████████████████| 296/296 [00:00<00:00, 1192.33it/s]\n",
      "100%|██████████████████████████████████████████████████████████████████████████████| 318/318 [00:00<00:00, 1786.39it/s]\n",
      "100%|██████████████████████████████████████████████████████████████████████████████| 264/264 [00:00<00:00, 2026.98it/s]\n",
      "100%|█████████████████████████████████████████████████████████████████████████████████| 75/75 [00:00<00:00, 329.06it/s]\n",
      "100%|█████████████████████████████████████████████████████████████████████████████████| 78/78 [00:00<00:00, 211.45it/s]\n",
      "100%|█████████████████████████████████████████████████████████████████████████████████| 70/70 [00:00<00:00, 180.44it/s]\n",
      "100%|████████████████████████████████████████████████████████████████████████████████| 75/75 [00:00<00:00, 1990.56it/s]\n",
      "100%|████████████████████████████████████████████████████████████████████████████████| 78/78 [00:00<00:00, 1858.71it/s]\n",
      "100%|████████████████████████████████████████████████████████████████████████████████| 70/70 [00:00<00:00, 1839.24it/s]\n"
     ]
    }
   ],
   "source": [
    "#Bounding box with one tumor\n",
    "lab = ['axial_t1wce_2_class','coronal_t1wce_2_class', 'sagittal_t1wce_2_class']\n",
    "X_train = []\n",
    "bb = []\n",
    "temp_array  = []\n",
    "image_size = 227\n",
    "for i in lab:\n",
    "    folderPath = os.path.join('./',i,'images','train')\n",
    "    for j in tqdm(os.listdir(folderPath)):\n",
    "        img = cv2.imread(os.path.join(folderPath,j))\n",
    "        if img.shape[0] != img.shape[1]:\n",
    "            img = make_square(img, fill_color=(0, 0, 0, 0))\n",
    "        img = cv2.resize(img,(image_size, image_size))\n",
    "        X_train.append(img)\n",
    "image_index = 0\n",
    "bb_train = np.zeros((len(X_train),4))\n",
    "for i in lab:\n",
    "    labelsPath = os.path.join('./',i,'labels','train')\n",
    "    for j in tqdm(os.listdir(labelsPath)):\n",
    "        with open(os.path.join(labelsPath,j), encoding=\"utf-8\") as f:\n",
    "            for line in f:\n",
    "                num = list(map(float,line.split(\" \")))\n",
    "                temp_array = []\n",
    "                for k in num:\n",
    "                    k = k * image_size\n",
    "                    temp_array.append(k)\n",
    "                temp_array.pop(0)\n",
    "                #print(temp_array)\n",
    "                bb_train[image_index] = np.array([temp_array])\n",
    "                #print(bb_train[image_index])\n",
    "            image_index += 1\n",
    "\n",
    "X_test = []\n",
    "for i in lab:\n",
    "    folderPath = os.path.join('./',i,'images','test')\n",
    "    for j in tqdm(os.listdir(folderPath)):\n",
    "        img = cv2.imread(os.path.join(folderPath,j))\n",
    "        if img.shape[0] != img.shape[1]:\n",
    "            img = make_square(img, fill_color=(0, 0, 0, 0))\n",
    "        img = cv2.resize(img,(image_size, image_size))\n",
    "        X_test.append(img)\n",
    "image_index = 0\n",
    "bb_test = np.zeros((len(X_test),4))\n",
    "for i in lab:\n",
    "    labelsPath = os.path.join('./',i,'labels','test')\n",
    "    for j in tqdm(os.listdir(labelsPath)):\n",
    "        with open(os.path.join(labelsPath,j), encoding=\"utf-8\") as f:\n",
    "            for line in f:\n",
    "                num = list(map(float,line.split(\" \")))\n",
    "                temp_array = []\n",
    "                for k in num:\n",
    "                    k = k * image_size\n",
    "                    temp_array.append(k)\n",
    "                temp_array.pop(0)\n",
    "                #print(temp_array)\n",
    "                bb_test[image_index] = np.array([temp_array])\n",
    "                #print(bb_test[image_index])\n",
    "            image_index += 1"
   ]
  },
  {
   "cell_type": "code",
   "execution_count": 63,
   "id": "7af6645e",
   "metadata": {},
   "outputs": [],
   "source": [
    "#prepare dataset \n",
    "train_dataset = ImageDataGenerator()\n",
    "val_dataset = ImageDataGenerator()"
   ]
  },
  {
   "cell_type": "code",
   "execution_count": 64,
   "id": "7d593dd9",
   "metadata": {},
   "outputs": [],
   "source": [
    "#array conversion\n",
    "X_train = np.array(X_train)\n",
    "X_test = np.array(X_test)"
   ]
  },
  {
   "cell_type": "code",
   "execution_count": 65,
   "id": "ae8f4400",
   "metadata": {},
   "outputs": [],
   "source": [
    "#Shuffle\n",
    "X_train, bb_train = shuffle(X_train, bb_train)"
   ]
  },
  {
   "cell_type": "code",
   "execution_count": 66,
   "id": "04e1025e",
   "metadata": {},
   "outputs": [],
   "source": [
    "#Validation set created\n",
    "X_train, X_val, bb_train, bb_val = train_test_split(X_train, bb_train, test_size = 0.1, shuffle = False)"
   ]
  },
  {
   "cell_type": "code",
   "execution_count": 67,
   "id": "3d9b4a10",
   "metadata": {},
   "outputs": [],
   "source": [
    "tf.keras.backend.set_image_data_format('channels_last')\n",
    "BATCH_SIZE = 16\n",
    "save_path = os.path.join('./', 'model_from_scratch')\n",
    "train_dataset = train_dataset.flow(X_train, bb_train, batch_size = BATCH_SIZE)\n",
    "val_dataset = val_dataset.flow(X_val, bb_val, batch_size = BATCH_SIZE)"
   ]
  },
  {
   "cell_type": "code",
   "execution_count": 9,
   "id": "d8b0b015",
   "metadata": {},
   "outputs": [],
   "source": [
    "#Data augmentation\n",
    "img_augmentation = Sequential(\n",
    "    [\n",
    "        layers.RandomRotation(factor=0.15),\n",
    "        #layers.RandomTranslation(height_factor=0.1, width_factor=0.1),\n",
    "        layers.RandomContrast(factor=0.1),\n",
    "        layers.RandomZoom(height_factor=0.2, width_factor=0.2)\n",
    "    ],\n",
    "    name=\"img_augmentation\",\n",
    ")"
   ]
  },
  {
   "cell_type": "code",
   "execution_count": 81,
   "id": "7128dd75",
   "metadata": {},
   "outputs": [
    {
     "name": "stdout",
     "output_type": "stream",
     "text": [
      "Model: \"sequential_7\"\n",
      "_________________________________________________________________\n",
      " Layer (type)                Output Shape              Param #   \n",
      "=================================================================\n",
      " conv2d_164 (Conv2D)         (None, 55, 55, 96)        34944     \n",
      "                                                                 \n",
      " batch_normalization_55 (Bat  (None, 55, 55, 96)       384       \n",
      " chNormalization)                                                \n",
      "                                                                 \n",
      " activation_30 (Activation)  (None, 55, 55, 96)        0         \n",
      "                                                                 \n",
      " max_pooling2d_52 (MaxPoolin  (None, 27, 27, 96)       0         \n",
      " g2D)                                                            \n",
      "                                                                 \n",
      " conv2d_165 (Conv2D)         (None, 27, 27, 256)       614656    \n",
      "                                                                 \n",
      " batch_normalization_56 (Bat  (None, 27, 27, 256)      1024      \n",
      " chNormalization)                                                \n",
      "                                                                 \n",
      " activation_31 (Activation)  (None, 27, 27, 256)       0         \n",
      "                                                                 \n",
      " max_pooling2d_53 (MaxPoolin  (None, 13, 13, 256)      0         \n",
      " g2D)                                                            \n",
      "                                                                 \n",
      " conv2d_166 (Conv2D)         (None, 13, 13, 384)       885120    \n",
      "                                                                 \n",
      " batch_normalization_57 (Bat  (None, 13, 13, 384)      1536      \n",
      " chNormalization)                                                \n",
      "                                                                 \n",
      " activation_32 (Activation)  (None, 13, 13, 384)       0         \n",
      "                                                                 \n",
      " conv2d_167 (Conv2D)         (None, 13, 13, 384)       1327488   \n",
      "                                                                 \n",
      " batch_normalization_58 (Bat  (None, 13, 13, 384)      1536      \n",
      " chNormalization)                                                \n",
      "                                                                 \n",
      " activation_33 (Activation)  (None, 13, 13, 384)       0         \n",
      "                                                                 \n",
      " conv2d_168 (Conv2D)         (None, 13, 13, 256)       884992    \n",
      "                                                                 \n",
      " batch_normalization_59 (Bat  (None, 13, 13, 256)      1024      \n",
      " chNormalization)                                                \n",
      "                                                                 \n",
      " activation_34 (Activation)  (None, 13, 13, 256)       0         \n",
      "                                                                 \n",
      " max_pooling2d_54 (MaxPoolin  (None, 6, 6, 256)        0         \n",
      " g2D)                                                            \n",
      "                                                                 \n",
      " flatten_5 (Flatten)         (None, 9216)              0         \n",
      "                                                                 \n",
      " dense_10 (Dense)            (None, 4096)              37752832  \n",
      "                                                                 \n",
      " dropout_33 (Dropout)        (None, 4096)              0         \n",
      "                                                                 \n",
      " batch_normalization_60 (Bat  (None, 4096)             16384     \n",
      " chNormalization)                                                \n",
      "                                                                 \n",
      " activation_35 (Activation)  (None, 4096)              0         \n",
      "                                                                 \n",
      " dense_11 (Dense)            (None, 4096)              16781312  \n",
      "                                                                 \n",
      " dropout_34 (Dropout)        (None, 4096)              0         \n",
      "                                                                 \n",
      " batch_normalization_61 (Bat  (None, 4096)             16384     \n",
      " chNormalization)                                                \n",
      "                                                                 \n",
      " activation_36 (Activation)  (None, 4096)              0         \n",
      "                                                                 \n",
      " dense_12 (Dense)            (None, 4)                 16388     \n",
      "                                                                 \n",
      " activation_37 (Activation)  (None, 4)                 0         \n",
      "                                                                 \n",
      "=================================================================\n",
      "Total params: 58,336,004\n",
      "Trainable params: 58,316,868\n",
      "Non-trainable params: 19,136\n",
      "_________________________________________________________________\n"
     ]
    }
   ],
   "source": [
    "# Creating a Sequential model\n",
    "model = Sequential()\n",
    "\n",
    "# 1st Convolution Layer\n",
    "model.add(Conv2D(filters=96, kernel_size=(11,11), input_shape=(227, 227, 3), strides=(4,4), padding='valid'))\n",
    "# Normalization\n",
    "model.add(BatchNormalization())\n",
    "# Activation Function\n",
    "model.add(Activation('relu'))\n",
    "# Max-Pooling\n",
    "model.add(MaxPooling2D((3,3), strides=(2,2), padding='valid'))\n",
    "\n",
    "# 2nd Convolution Layer\n",
    "model.add(Conv2D(filters=256, kernel_size=(5,5), strides=(1,1), padding='same'))\n",
    "# Normalization\n",
    "model.add(BatchNormalization())\n",
    "# Activation Function\n",
    "model.add(Activation('relu'))\n",
    "# Max-Pooling\n",
    "model.add(MaxPooling2D((3,3), strides=(2,2), padding='valid'))\n",
    "\n",
    "# 3rd Convolution Layer\n",
    "model.add(Conv2D(filters=384, kernel_size=(3,3), padding='same'))\n",
    "# Normalization\n",
    "model.add(BatchNormalization())\n",
    "# Activation Function\n",
    "model.add(Activation('relu'))\n",
    "\n",
    "# 4th Convolution Layer\n",
    "model.add(Conv2D(filters=384, kernel_size=(3,3), padding='same'))\n",
    "# Normalization\n",
    "model.add(BatchNormalization())\n",
    "# Activation Function\n",
    "model.add(Activation('relu'))\n",
    "\n",
    "# 5th Convolution Layer\n",
    "model.add(Conv2D(filters=256, kernel_size=(3,3), strides=(1,1), padding='same'))\n",
    "# Normalization\n",
    "model.add(BatchNormalization())\n",
    "# Activation Function\n",
    "model.add(Activation('relu'))\n",
    "# Max-Pooling\n",
    "model.add(MaxPooling2D((3,3), strides=(2,2), padding='valid'))\n",
    "\n",
    "# Flattening before passing to the Dense layer\n",
    "model.add(Flatten())\n",
    "\n",
    "# 1st Dense Layer\n",
    "model.add(Dense(4096))\n",
    "# Dropout\n",
    "model.add(Dropout(0.5))\n",
    "# Normalization\n",
    "model.add(BatchNormalization())\n",
    "# Activation Function\n",
    "model.add(Activation('relu'))\n",
    "\n",
    "# 2nd Dense Layer\n",
    "model.add(Dense(4096))\n",
    "# Dropout\n",
    "model.add(Dropout(0.5))\n",
    "# Normalization\n",
    "model.add(BatchNormalization())\n",
    "# Activation Function\n",
    "model.add(Activation('relu'))\n",
    "\n",
    "# Output softmax Layer\n",
    "model.add(Dense(4))\n",
    "# Activation Function\n",
    "model.add(Activation('softmax'))\n",
    "\n",
    "model.summary()"
   ]
  },
  {
   "cell_type": "code",
   "execution_count": 82,
   "id": "565b34b8",
   "metadata": {},
   "outputs": [
    {
     "name": "stdout",
     "output_type": "stream",
     "text": [
      "Model: \"u-netmodel\"\n",
      "__________________________________________________________________________________________________\n",
      " Layer (type)                   Output Shape         Param #     Connected to                     \n",
      "==================================================================================================\n",
      " input_20 (InputLayer)          [(None, 572, 572, 1  0           []                               \n",
      "                                )]                                                                \n",
      "                                                                                                  \n",
      " conv2d_169 (Conv2D)            (None, 570, 570, 64  640         ['input_20[0][0]']               \n",
      "                                )                                                                 \n",
      "                                                                                                  \n",
      " conv2d_170 (Conv2D)            (None, 568, 568, 64  36928       ['conv2d_169[0][0]']             \n",
      "                                )                                                                 \n",
      "                                                                                                  \n",
      " max_pooling2d_55 (MaxPooling2D  (None, 284, 284, 64  0          ['conv2d_170[0][0]']             \n",
      " )                              )                                                                 \n",
      "                                                                                                  \n",
      " conv2d_171 (Conv2D)            (None, 282, 282, 12  73856       ['max_pooling2d_55[0][0]']       \n",
      "                                8)                                                                \n",
      "                                                                                                  \n",
      " conv2d_172 (Conv2D)            (None, 280, 280, 12  147584      ['conv2d_171[0][0]']             \n",
      "                                8)                                                                \n",
      "                                                                                                  \n",
      " max_pooling2d_56 (MaxPooling2D  (None, 140, 140, 12  0          ['conv2d_172[0][0]']             \n",
      " )                              8)                                                                \n",
      "                                                                                                  \n",
      " conv2d_173 (Conv2D)            (None, 138, 138, 25  295168      ['max_pooling2d_56[0][0]']       \n",
      "                                6)                                                                \n",
      "                                                                                                  \n",
      " conv2d_174 (Conv2D)            (None, 136, 136, 25  590080      ['conv2d_173[0][0]']             \n",
      "                                6)                                                                \n",
      "                                                                                                  \n",
      " max_pooling2d_57 (MaxPooling2D  (None, 68, 68, 256)  0          ['conv2d_174[0][0]']             \n",
      " )                                                                                                \n",
      "                                                                                                  \n",
      " conv2d_175 (Conv2D)            (None, 66, 66, 512)  1180160     ['max_pooling2d_57[0][0]']       \n",
      "                                                                                                  \n",
      " conv2d_176 (Conv2D)            (None, 64, 64, 512)  2359808     ['conv2d_175[0][0]']             \n",
      "                                                                                                  \n",
      " max_pooling2d_58 (MaxPooling2D  (None, 32, 32, 512)  0          ['conv2d_176[0][0]']             \n",
      " )                                                                                                \n",
      "                                                                                                  \n",
      " conv2d_177 (Conv2D)            (None, 30, 30, 1024  4719616     ['max_pooling2d_58[0][0]']       \n",
      "                                )                                                                 \n",
      "                                                                                                  \n",
      " conv2d_178 (Conv2D)            (None, 28, 28, 1024  9438208     ['conv2d_177[0][0]']             \n",
      "                                )                                                                 \n",
      "                                                                                                  \n",
      " conv2d_transpose_19 (Conv2DTra  (None, 56, 56, 512)  2097664    ['conv2d_178[0][0]']             \n",
      " nspose)                                                                                          \n",
      "                                                                                                  \n",
      " cropping2d_16 (Cropping2D)     (None, 56, 56, 512)  0           ['conv2d_176[0][0]']             \n",
      "                                                                                                  \n",
      " concatenate_19 (Concatenate)   (None, 56, 56, 1024  0           ['conv2d_transpose_19[0][0]',    \n",
      "                                )                                 'cropping2d_16[0][0]']          \n",
      "                                                                                                  \n",
      " conv2d_179 (Conv2D)            (None, 54, 54, 512)  4719104     ['concatenate_19[0][0]']         \n",
      "                                                                                                  \n",
      " conv2d_180 (Conv2D)            (None, 52, 52, 512)  2359808     ['conv2d_179[0][0]']             \n",
      "                                                                                                  \n",
      " conv2d_transpose_20 (Conv2DTra  (None, 104, 104, 25  524544     ['conv2d_180[0][0]']             \n",
      " nspose)                        6)                                                                \n",
      "                                                                                                  \n",
      " cropping2d_17 (Cropping2D)     (None, 104, 104, 25  0           ['conv2d_174[0][0]']             \n",
      "                                6)                                                                \n",
      "                                                                                                  \n",
      " concatenate_20 (Concatenate)   (None, 104, 104, 51  0           ['conv2d_transpose_20[0][0]',    \n",
      "                                2)                                'cropping2d_17[0][0]']          \n",
      "                                                                                                  \n",
      " conv2d_181 (Conv2D)            (None, 102, 102, 25  1179904     ['concatenate_20[0][0]']         \n",
      "                                6)                                                                \n",
      "                                                                                                  \n",
      " conv2d_182 (Conv2D)            (None, 100, 100, 25  590080      ['conv2d_181[0][0]']             \n",
      "                                6)                                                                \n",
      "                                                                                                  \n",
      " conv2d_transpose_21 (Conv2DTra  (None, 200, 200, 12  131200     ['conv2d_182[0][0]']             \n",
      " nspose)                        8)                                                                \n",
      "                                                                                                  \n",
      " cropping2d_18 (Cropping2D)     (None, 200, 200, 12  0           ['conv2d_172[0][0]']             \n",
      "                                8)                                                                \n",
      "                                                                                                  \n",
      " concatenate_21 (Concatenate)   (None, 200, 200, 25  0           ['conv2d_transpose_21[0][0]',    \n",
      "                                6)                                'cropping2d_18[0][0]']          \n",
      "                                                                                                  \n",
      " conv2d_183 (Conv2D)            (None, 198, 198, 12  295040      ['concatenate_21[0][0]']         \n"
     ]
    },
    {
     "name": "stdout",
     "output_type": "stream",
     "text": [
      "                                8)                                                                \n",
      "                                                                                                  \n",
      " conv2d_184 (Conv2D)            (None, 196, 196, 12  147584      ['conv2d_183[0][0]']             \n",
      "                                8)                                                                \n",
      "                                                                                                  \n",
      " conv2d_transpose_22 (Conv2DTra  (None, 392, 392, 64  32832      ['conv2d_184[0][0]']             \n",
      " nspose)                        )                                                                 \n",
      "                                                                                                  \n",
      " cropping2d_19 (Cropping2D)     (None, 392, 392, 64  0           ['conv2d_170[0][0]']             \n",
      "                                )                                                                 \n",
      "                                                                                                  \n",
      " concatenate_22 (Concatenate)   (None, 392, 392, 12  0           ['conv2d_transpose_22[0][0]',    \n",
      "                                8)                                'cropping2d_19[0][0]']          \n",
      "                                                                                                  \n",
      " conv2d_185 (Conv2D)            (None, 390, 390, 64  73792       ['concatenate_22[0][0]']         \n",
      "                                )                                                                 \n",
      "                                                                                                  \n",
      " conv2d_186 (Conv2D)            (None, 388, 388, 64  36928       ['conv2d_185[0][0]']             \n",
      "                                )                                                                 \n",
      "                                                                                                  \n",
      " conv2d_187 (Conv2D)            (None, 388, 388, 2)  130         ['conv2d_186[0][0]']             \n",
      "                                                                                                  \n",
      " dropout_35 (Dropout)           (None, 388, 388, 2)  0           ['conv2d_187[0][0]']             \n",
      "                                                                                                  \n",
      " flatten_6 (Flatten)            (None, 301088)       0           ['dropout_35[0][0]']             \n",
      "                                                                                                  \n",
      " coords (Dense)                 (None, 4)            1204356     ['flatten_6[0][0]']              \n",
      "                                                                                                  \n",
      "==================================================================================================\n",
      "Total params: 32,235,014\n",
      "Trainable params: 32,235,014\n",
      "Non-trainable params: 0\n",
      "__________________________________________________________________________________________________\n"
     ]
    }
   ],
   "source": [
    "# declaring the input layer\n",
    "# In the original paper the network consisted of only one channel.\n",
    "inputs = layers.Input(shape=(572, 572, 1))\n",
    "# first part of the U - contracting part\n",
    "c0 = layers.Conv2D(64, activation='relu', kernel_size=3)(inputs)\n",
    "c1 = layers.Conv2D(64, activation='relu', kernel_size=3)(c0)  # This layer for concatenating in the expansive part\n",
    "c2 = layers.MaxPool2D(pool_size=(2, 2), strides=(2, 2), padding='valid')(c1)\n",
    "\n",
    "c3 = layers.Conv2D(128, activation='relu', kernel_size=3)(c2)\n",
    "c4 = layers.Conv2D(128, activation='relu', kernel_size=3)(c3)  # This layer for concatenating in the expansive part\n",
    "c5 = layers.MaxPool2D(pool_size=(2, 2), strides=(2, 2), padding='valid')(c4)\n",
    "\n",
    "c6 = layers.Conv2D(256, activation='relu', kernel_size=3)(c5)\n",
    "c7 = layers.Conv2D(256, activation='relu', kernel_size=3)(c6)  # This layer for concatenating in the expansive part\n",
    "c8 = layers.MaxPool2D(pool_size=(2, 2), strides=(2, 2), padding='valid')(c7)\n",
    "\n",
    "c9 = layers.Conv2D(512, activation='relu', kernel_size=3)(c8)\n",
    "c10 = layers.Conv2D(512, activation='relu', kernel_size=3)(c9)  # This layer for concatenating in the expansive part\n",
    "c11 = layers.MaxPool2D(pool_size=(2, 2), strides=(2, 2), padding='valid')(c10)\n",
    "\n",
    "c12 = layers.Conv2D(1024, activation='relu', kernel_size=3)(c11)\n",
    "c13 = layers.Conv2D(1024, activation='relu', kernel_size=3, padding='valid')(c12)\n",
    "\n",
    "# We will now start the second part of the U - expansive part\n",
    "t01 = layers.Conv2DTranspose(512, kernel_size=2, strides=(2, 2), activation='relu')(c13)\n",
    "crop01 = layers.Cropping2D(cropping=(4, 4))(c10)\n",
    "\n",
    "concat01 = layers.concatenate([t01, crop01], axis=-1)\n",
    "\n",
    "c14 = layers.Conv2D(512, activation='relu', kernel_size=3)(concat01)\n",
    "c15 = layers.Conv2D(512, activation='relu', kernel_size=3)(c14)\n",
    "\n",
    "t02 = layers.Conv2DTranspose(256, kernel_size=2, strides=(2, 2), activation='relu')(c15)\n",
    "crop02 = layers.Cropping2D(cropping=(16, 16))(c7)\n",
    "\n",
    "concat02 = layers.concatenate([t02, crop02], axis=-1)\n",
    "\n",
    "c16 = layers.Conv2D(256, activation='relu', kernel_size=3)(concat02)\n",
    "c17 = layers.Conv2D(256, activation='relu', kernel_size=3)(c16)\n",
    "\n",
    "t03 = layers.Conv2DTranspose(128, kernel_size=2, strides=(2, 2), activation='relu')(c17)\n",
    "crop03 = layers.Cropping2D(cropping=(40, 40))(c4)\n",
    "\n",
    "concat03 = layers.concatenate([t03, crop03], axis=-1)\n",
    "\n",
    "c18 = layers.Conv2D(128, activation='relu', kernel_size=3)(concat03)\n",
    "c19 = layers.Conv2D(128, activation='relu', kernel_size=3)(c18)\n",
    "\n",
    "t04 = layers.Conv2DTranspose(64, kernel_size=2, strides=(2, 2), activation='relu')(c19)\n",
    "crop04 = layers.Cropping2D(cropping=(88, 88))(c1)\n",
    "\n",
    "concat04 = layers.concatenate([t04, crop04], axis=-1)\n",
    "\n",
    "c20 = layers.Conv2D(64, activation='relu', kernel_size=3)(concat04)\n",
    "c21 = layers.Conv2D(64, activation='relu', kernel_size=3)(c20)\n",
    "\n",
    "model = layers.Conv2D(2, kernel_size=1)(c21)\n",
    "model = tf.keras.layers.Dropout(rate=0.5)(model)\n",
    "model = tf.keras.layers.Flatten()(model)\n",
    "outputs = tf.keras.layers.Dense(4,name='coords')(model)\n",
    "model = tf.keras.Model(inputs=inputs, outputs=outputs, name=\"u-netmodel\")\n",
    "\n",
    "model.summary()"
   ]
  },
  {
   "cell_type": "code",
   "execution_count": 83,
   "id": "2bb25a3c",
   "metadata": {},
   "outputs": [],
   "source": [
    "callbacks_list = [\n",
    "    keras.callbacks.ModelCheckpoint(\n",
    "    filepath=save_path,\n",
    "    monitor=\"val_loss\",\n",
    "    verbose=1,\n",
    "    save_best_only=True\n",
    "    ),\n",
    "    ShowTestImages()\n",
    "]"
   ]
  },
  {
   "cell_type": "code",
   "execution_count": 15,
   "id": "d0bd30d4",
   "metadata": {},
   "outputs": [
    {
     "name": "stdout",
     "output_type": "stream",
     "text": [
      "Model: \"model\"\n",
      "_________________________________________________________________\n",
      " Layer (type)                Output Shape              Param #   \n",
      "=================================================================\n",
      " input_2 (InputLayer)        [(None, 180, 180, 3)]     0         \n",
      "                                                                 \n",
      " img_augmentation (Sequentia  (None, 180, 180, 3)      0         \n",
      " l)                                                              \n",
      "                                                                 \n",
      " efficientnetb0 (Functional)  (None, 6, 6, 1280)       4049571   \n",
      "                                                                 \n",
      " global_average_pooling2d (G  (None, 1280)             0         \n",
      " lobalAveragePooling2D)                                          \n",
      "                                                                 \n",
      " dropout (Dropout)           (None, 1280)              0         \n",
      "                                                                 \n",
      " flatten (Flatten)           (None, 1280)              0         \n",
      "                                                                 \n",
      " coords (Dense)              (None, 4)                 5124      \n",
      "                                                                 \n",
      "=================================================================\n",
      "Total params: 4,054,695\n",
      "Trainable params: 4,012,672\n",
      "Non-trainable params: 42,023\n",
      "_________________________________________________________________\n"
     ]
    }
   ],
   "source": [
    "IMG_SIZE = 180\n",
    "inputs = keras.Input(shape=(IMG_SIZE, IMG_SIZE, 3))\n",
    "model = img_augmentation(inputs)\n",
    "model = keras.applications.efficientnet.preprocess_input(model)\n",
    "model = conv_base(model)\n",
    "model = tf.keras.layers.GlobalAveragePooling2D()(model)\n",
    "model = tf.keras.layers.Dropout(rate=0.5)(model)\n",
    "model = tf.keras.layers.Flatten()(model)\n",
    "model = tf.keras.layers.Dense(4,name='coords')(model)\n",
    "model = tf.keras.models.Model(inputs=inputs, outputs = model)\n",
    "model.summary()"
   ]
  },
  {
   "cell_type": "code",
   "execution_count": 84,
   "id": "06cd51f4",
   "metadata": {},
   "outputs": [],
   "source": [
    "model.compile(\n",
    "    loss={\n",
    "        'coords': 'mae'\n",
    "    },\n",
    "    optimizer=tf.keras.optimizers.Adam(1e-3),\n",
    "    metrics={\n",
    "        'coords': 'accuracy'\n",
    "    }\n",
    ")"
   ]
  },
  {
   "cell_type": "code",
   "execution_count": 85,
   "id": "4c3f9e48",
   "metadata": {},
   "outputs": [
    {
     "name": "stdout",
     "output_type": "stream",
     "text": [
      "Epoch 1/5\n"
     ]
    },
    {
     "ename": "UnimplementedError",
     "evalue": "Graph execution error:\n\nDetected at node 'u-netmodel/conv2d_169/Relu' defined at (most recent call last):\n    File \"c:\\users\\alexi\\appdata\\local\\programs\\python\\python39\\lib\\runpy.py\", line 197, in _run_module_as_main\n      return _run_code(code, main_globals, None,\n    File \"c:\\users\\alexi\\appdata\\local\\programs\\python\\python39\\lib\\runpy.py\", line 87, in _run_code\n      exec(code, run_globals)\n    File \"c:\\users\\alexi\\appdata\\local\\programs\\python\\python39\\lib\\site-packages\\ipykernel_launcher.py\", line 17, in <module>\n      app.launch_new_instance()\n    File \"c:\\users\\alexi\\appdata\\local\\programs\\python\\python39\\lib\\site-packages\\traitlets\\config\\application.py\", line 1043, in launch_instance\n      app.start()\n    File \"c:\\users\\alexi\\appdata\\local\\programs\\python\\python39\\lib\\site-packages\\ipykernel\\kernelapp.py\", line 725, in start\n      self.io_loop.start()\n    File \"c:\\users\\alexi\\appdata\\local\\programs\\python\\python39\\lib\\site-packages\\tornado\\platform\\asyncio.py\", line 215, in start\n      self.asyncio_loop.run_forever()\n    File \"c:\\users\\alexi\\appdata\\local\\programs\\python\\python39\\lib\\asyncio\\base_events.py\", line 596, in run_forever\n      self._run_once()\n    File \"c:\\users\\alexi\\appdata\\local\\programs\\python\\python39\\lib\\asyncio\\base_events.py\", line 1890, in _run_once\n      handle._run()\n    File \"c:\\users\\alexi\\appdata\\local\\programs\\python\\python39\\lib\\asyncio\\events.py\", line 80, in _run\n      self._context.run(self._callback, *self._args)\n    File \"c:\\users\\alexi\\appdata\\local\\programs\\python\\python39\\lib\\site-packages\\ipykernel\\kernelbase.py\", line 513, in dispatch_queue\n      await self.process_one()\n    File \"c:\\users\\alexi\\appdata\\local\\programs\\python\\python39\\lib\\site-packages\\ipykernel\\kernelbase.py\", line 502, in process_one\n      await dispatch(*args)\n    File \"c:\\users\\alexi\\appdata\\local\\programs\\python\\python39\\lib\\site-packages\\ipykernel\\kernelbase.py\", line 409, in dispatch_shell\n      await result\n    File \"c:\\users\\alexi\\appdata\\local\\programs\\python\\python39\\lib\\site-packages\\ipykernel\\kernelbase.py\", line 729, in execute_request\n      reply_content = await reply_content\n    File \"c:\\users\\alexi\\appdata\\local\\programs\\python\\python39\\lib\\site-packages\\ipykernel\\ipkernel.py\", line 422, in do_execute\n      res = shell.run_cell(\n    File \"c:\\users\\alexi\\appdata\\local\\programs\\python\\python39\\lib\\site-packages\\ipykernel\\zmqshell.py\", line 540, in run_cell\n      return super().run_cell(*args, **kwargs)\n    File \"c:\\users\\alexi\\appdata\\local\\programs\\python\\python39\\lib\\site-packages\\IPython\\core\\interactiveshell.py\", line 2961, in run_cell\n      result = self._run_cell(\n    File \"c:\\users\\alexi\\appdata\\local\\programs\\python\\python39\\lib\\site-packages\\IPython\\core\\interactiveshell.py\", line 3016, in _run_cell\n      result = runner(coro)\n    File \"c:\\users\\alexi\\appdata\\local\\programs\\python\\python39\\lib\\site-packages\\IPython\\core\\async_helpers.py\", line 129, in _pseudo_sync_runner\n      coro.send(None)\n    File \"c:\\users\\alexi\\appdata\\local\\programs\\python\\python39\\lib\\site-packages\\IPython\\core\\interactiveshell.py\", line 3221, in run_cell_async\n      has_raised = await self.run_ast_nodes(code_ast.body, cell_name,\n    File \"c:\\users\\alexi\\appdata\\local\\programs\\python\\python39\\lib\\site-packages\\IPython\\core\\interactiveshell.py\", line 3400, in run_ast_nodes\n      if await self.run_code(code, result, async_=asy):\n    File \"c:\\users\\alexi\\appdata\\local\\programs\\python\\python39\\lib\\site-packages\\IPython\\core\\interactiveshell.py\", line 3460, in run_code\n      exec(code_obj, self.user_global_ns, self.user_ns)\n    File \"C:\\Users\\alexi\\AppData\\Local\\Temp\\ipykernel_23016\\572828044.py\", line 1, in <module>\n      model.fit(\n    File \"c:\\users\\alexi\\appdata\\local\\programs\\python\\python39\\lib\\site-packages\\keras\\utils\\traceback_utils.py\", line 64, in error_handler\n      return fn(*args, **kwargs)\n    File \"c:\\users\\alexi\\appdata\\local\\programs\\python\\python39\\lib\\site-packages\\keras\\engine\\training.py\", line 1409, in fit\n      tmp_logs = self.train_function(iterator)\n    File \"c:\\users\\alexi\\appdata\\local\\programs\\python\\python39\\lib\\site-packages\\keras\\engine\\training.py\", line 1051, in train_function\n      return step_function(self, iterator)\n    File \"c:\\users\\alexi\\appdata\\local\\programs\\python\\python39\\lib\\site-packages\\keras\\engine\\training.py\", line 1040, in step_function\n      outputs = model.distribute_strategy.run(run_step, args=(data,))\n    File \"c:\\users\\alexi\\appdata\\local\\programs\\python\\python39\\lib\\site-packages\\keras\\engine\\training.py\", line 1030, in run_step\n      outputs = model.train_step(data)\n    File \"c:\\users\\alexi\\appdata\\local\\programs\\python\\python39\\lib\\site-packages\\keras\\engine\\training.py\", line 889, in train_step\n      y_pred = self(x, training=True)\n    File \"c:\\users\\alexi\\appdata\\local\\programs\\python\\python39\\lib\\site-packages\\keras\\utils\\traceback_utils.py\", line 64, in error_handler\n      return fn(*args, **kwargs)\n    File \"c:\\users\\alexi\\appdata\\local\\programs\\python\\python39\\lib\\site-packages\\keras\\engine\\training.py\", line 490, in __call__\n      return super().__call__(*args, **kwargs)\n    File \"c:\\users\\alexi\\appdata\\local\\programs\\python\\python39\\lib\\site-packages\\keras\\utils\\traceback_utils.py\", line 64, in error_handler\n      return fn(*args, **kwargs)\n    File \"c:\\users\\alexi\\appdata\\local\\programs\\python\\python39\\lib\\site-packages\\keras\\engine\\base_layer.py\", line 1014, in __call__\n      outputs = call_fn(inputs, *args, **kwargs)\n    File \"c:\\users\\alexi\\appdata\\local\\programs\\python\\python39\\lib\\site-packages\\keras\\utils\\traceback_utils.py\", line 92, in error_handler\n      return fn(*args, **kwargs)\n    File \"c:\\users\\alexi\\appdata\\local\\programs\\python\\python39\\lib\\site-packages\\keras\\engine\\functional.py\", line 458, in call\n      return self._run_internal_graph(\n    File \"c:\\users\\alexi\\appdata\\local\\programs\\python\\python39\\lib\\site-packages\\keras\\engine\\functional.py\", line 596, in _run_internal_graph\n      outputs = node.layer(*args, **kwargs)\n    File \"c:\\users\\alexi\\appdata\\local\\programs\\python\\python39\\lib\\site-packages\\keras\\utils\\traceback_utils.py\", line 64, in error_handler\n      return fn(*args, **kwargs)\n    File \"c:\\users\\alexi\\appdata\\local\\programs\\python\\python39\\lib\\site-packages\\keras\\engine\\base_layer.py\", line 1014, in __call__\n      outputs = call_fn(inputs, *args, **kwargs)\n    File \"c:\\users\\alexi\\appdata\\local\\programs\\python\\python39\\lib\\site-packages\\keras\\utils\\traceback_utils.py\", line 92, in error_handler\n      return fn(*args, **kwargs)\n    File \"c:\\users\\alexi\\appdata\\local\\programs\\python\\python39\\lib\\site-packages\\keras\\layers\\convolutional\\base_conv.py\", line 278, in call\n      return self.activation(outputs)\n    File \"c:\\users\\alexi\\appdata\\local\\programs\\python\\python39\\lib\\site-packages\\keras\\activations.py\", line 311, in relu\n      return backend.relu(x, alpha=alpha, max_value=max_value, threshold=threshold)\n    File \"c:\\users\\alexi\\appdata\\local\\programs\\python\\python39\\lib\\site-packages\\keras\\backend.py\", line 4992, in relu\n      x = tf.nn.relu(x)\nNode: 'u-netmodel/conv2d_169/Relu'\nFused conv implementation does not support grouped convolutions for now.\n\t [[{{node u-netmodel/conv2d_169/Relu}}]] [Op:__inference_train_function_13429]",
     "output_type": "error",
     "traceback": [
      "\u001b[1;31m---------------------------------------------------------------------------\u001b[0m",
      "\u001b[1;31mUnimplementedError\u001b[0m                        Traceback (most recent call last)",
      "Cell \u001b[1;32mIn[85], line 1\u001b[0m\n\u001b[1;32m----> 1\u001b[0m \u001b[43mmodel\u001b[49m\u001b[38;5;241;43m.\u001b[39;49m\u001b[43mfit\u001b[49m\u001b[43m(\u001b[49m\n\u001b[0;32m      2\u001b[0m \u001b[43m        \u001b[49m\u001b[43mtrain_dataset\u001b[49m\u001b[43m,\u001b[49m\n\u001b[0;32m      3\u001b[0m \u001b[43m        \u001b[49m\u001b[43mepochs\u001b[49m\u001b[38;5;241;43m=\u001b[39;49m\u001b[38;5;241;43m5\u001b[39;49m\u001b[43m,\u001b[49m\n\u001b[0;32m      4\u001b[0m \u001b[43m        \u001b[49m\u001b[43mvalidation_data\u001b[49m\u001b[43m \u001b[49m\u001b[38;5;241;43m=\u001b[39;49m\u001b[43m \u001b[49m\u001b[43mval_dataset\u001b[49m\u001b[43m,\u001b[49m\n\u001b[0;32m      5\u001b[0m \u001b[43m        \u001b[49m\u001b[43mcallbacks\u001b[49m\u001b[43m \u001b[49m\u001b[38;5;241;43m=\u001b[39;49m\u001b[43m \u001b[49m\u001b[43mcallbacks_list\u001b[49m\n\u001b[0;32m      6\u001b[0m \u001b[43m        \u001b[49m\u001b[43m)\u001b[49m\n",
      "File \u001b[1;32mc:\\users\\alexi\\appdata\\local\\programs\\python\\python39\\lib\\site-packages\\keras\\utils\\traceback_utils.py:67\u001b[0m, in \u001b[0;36mfilter_traceback.<locals>.error_handler\u001b[1;34m(*args, **kwargs)\u001b[0m\n\u001b[0;32m     65\u001b[0m \u001b[38;5;28;01mexcept\u001b[39;00m \u001b[38;5;167;01mException\u001b[39;00m \u001b[38;5;28;01mas\u001b[39;00m e:  \u001b[38;5;66;03m# pylint: disable=broad-except\u001b[39;00m\n\u001b[0;32m     66\u001b[0m   filtered_tb \u001b[38;5;241m=\u001b[39m _process_traceback_frames(e\u001b[38;5;241m.\u001b[39m__traceback__)\n\u001b[1;32m---> 67\u001b[0m   \u001b[38;5;28;01mraise\u001b[39;00m e\u001b[38;5;241m.\u001b[39mwith_traceback(filtered_tb) \u001b[38;5;28;01mfrom\u001b[39;00m \u001b[38;5;28mNone\u001b[39m\n\u001b[0;32m     68\u001b[0m \u001b[38;5;28;01mfinally\u001b[39;00m:\n\u001b[0;32m     69\u001b[0m   \u001b[38;5;28;01mdel\u001b[39;00m filtered_tb\n",
      "File \u001b[1;32mc:\\users\\alexi\\appdata\\local\\programs\\python\\python39\\lib\\site-packages\\tensorflow\\python\\eager\\execute.py:54\u001b[0m, in \u001b[0;36mquick_execute\u001b[1;34m(op_name, num_outputs, inputs, attrs, ctx, name)\u001b[0m\n\u001b[0;32m     52\u001b[0m \u001b[38;5;28;01mtry\u001b[39;00m:\n\u001b[0;32m     53\u001b[0m   ctx\u001b[38;5;241m.\u001b[39mensure_initialized()\n\u001b[1;32m---> 54\u001b[0m   tensors \u001b[38;5;241m=\u001b[39m pywrap_tfe\u001b[38;5;241m.\u001b[39mTFE_Py_Execute(ctx\u001b[38;5;241m.\u001b[39m_handle, device_name, op_name,\n\u001b[0;32m     55\u001b[0m                                       inputs, attrs, num_outputs)\n\u001b[0;32m     56\u001b[0m \u001b[38;5;28;01mexcept\u001b[39;00m core\u001b[38;5;241m.\u001b[39m_NotOkStatusException \u001b[38;5;28;01mas\u001b[39;00m e:\n\u001b[0;32m     57\u001b[0m   \u001b[38;5;28;01mif\u001b[39;00m name \u001b[38;5;129;01mis\u001b[39;00m \u001b[38;5;129;01mnot\u001b[39;00m \u001b[38;5;28;01mNone\u001b[39;00m:\n",
      "\u001b[1;31mUnimplementedError\u001b[0m: Graph execution error:\n\nDetected at node 'u-netmodel/conv2d_169/Relu' defined at (most recent call last):\n    File \"c:\\users\\alexi\\appdata\\local\\programs\\python\\python39\\lib\\runpy.py\", line 197, in _run_module_as_main\n      return _run_code(code, main_globals, None,\n    File \"c:\\users\\alexi\\appdata\\local\\programs\\python\\python39\\lib\\runpy.py\", line 87, in _run_code\n      exec(code, run_globals)\n    File \"c:\\users\\alexi\\appdata\\local\\programs\\python\\python39\\lib\\site-packages\\ipykernel_launcher.py\", line 17, in <module>\n      app.launch_new_instance()\n    File \"c:\\users\\alexi\\appdata\\local\\programs\\python\\python39\\lib\\site-packages\\traitlets\\config\\application.py\", line 1043, in launch_instance\n      app.start()\n    File \"c:\\users\\alexi\\appdata\\local\\programs\\python\\python39\\lib\\site-packages\\ipykernel\\kernelapp.py\", line 725, in start\n      self.io_loop.start()\n    File \"c:\\users\\alexi\\appdata\\local\\programs\\python\\python39\\lib\\site-packages\\tornado\\platform\\asyncio.py\", line 215, in start\n      self.asyncio_loop.run_forever()\n    File \"c:\\users\\alexi\\appdata\\local\\programs\\python\\python39\\lib\\asyncio\\base_events.py\", line 596, in run_forever\n      self._run_once()\n    File \"c:\\users\\alexi\\appdata\\local\\programs\\python\\python39\\lib\\asyncio\\base_events.py\", line 1890, in _run_once\n      handle._run()\n    File \"c:\\users\\alexi\\appdata\\local\\programs\\python\\python39\\lib\\asyncio\\events.py\", line 80, in _run\n      self._context.run(self._callback, *self._args)\n    File \"c:\\users\\alexi\\appdata\\local\\programs\\python\\python39\\lib\\site-packages\\ipykernel\\kernelbase.py\", line 513, in dispatch_queue\n      await self.process_one()\n    File \"c:\\users\\alexi\\appdata\\local\\programs\\python\\python39\\lib\\site-packages\\ipykernel\\kernelbase.py\", line 502, in process_one\n      await dispatch(*args)\n    File \"c:\\users\\alexi\\appdata\\local\\programs\\python\\python39\\lib\\site-packages\\ipykernel\\kernelbase.py\", line 409, in dispatch_shell\n      await result\n    File \"c:\\users\\alexi\\appdata\\local\\programs\\python\\python39\\lib\\site-packages\\ipykernel\\kernelbase.py\", line 729, in execute_request\n      reply_content = await reply_content\n    File \"c:\\users\\alexi\\appdata\\local\\programs\\python\\python39\\lib\\site-packages\\ipykernel\\ipkernel.py\", line 422, in do_execute\n      res = shell.run_cell(\n    File \"c:\\users\\alexi\\appdata\\local\\programs\\python\\python39\\lib\\site-packages\\ipykernel\\zmqshell.py\", line 540, in run_cell\n      return super().run_cell(*args, **kwargs)\n    File \"c:\\users\\alexi\\appdata\\local\\programs\\python\\python39\\lib\\site-packages\\IPython\\core\\interactiveshell.py\", line 2961, in run_cell\n      result = self._run_cell(\n    File \"c:\\users\\alexi\\appdata\\local\\programs\\python\\python39\\lib\\site-packages\\IPython\\core\\interactiveshell.py\", line 3016, in _run_cell\n      result = runner(coro)\n    File \"c:\\users\\alexi\\appdata\\local\\programs\\python\\python39\\lib\\site-packages\\IPython\\core\\async_helpers.py\", line 129, in _pseudo_sync_runner\n      coro.send(None)\n    File \"c:\\users\\alexi\\appdata\\local\\programs\\python\\python39\\lib\\site-packages\\IPython\\core\\interactiveshell.py\", line 3221, in run_cell_async\n      has_raised = await self.run_ast_nodes(code_ast.body, cell_name,\n    File \"c:\\users\\alexi\\appdata\\local\\programs\\python\\python39\\lib\\site-packages\\IPython\\core\\interactiveshell.py\", line 3400, in run_ast_nodes\n      if await self.run_code(code, result, async_=asy):\n    File \"c:\\users\\alexi\\appdata\\local\\programs\\python\\python39\\lib\\site-packages\\IPython\\core\\interactiveshell.py\", line 3460, in run_code\n      exec(code_obj, self.user_global_ns, self.user_ns)\n    File \"C:\\Users\\alexi\\AppData\\Local\\Temp\\ipykernel_23016\\572828044.py\", line 1, in <module>\n      model.fit(\n    File \"c:\\users\\alexi\\appdata\\local\\programs\\python\\python39\\lib\\site-packages\\keras\\utils\\traceback_utils.py\", line 64, in error_handler\n      return fn(*args, **kwargs)\n    File \"c:\\users\\alexi\\appdata\\local\\programs\\python\\python39\\lib\\site-packages\\keras\\engine\\training.py\", line 1409, in fit\n      tmp_logs = self.train_function(iterator)\n    File \"c:\\users\\alexi\\appdata\\local\\programs\\python\\python39\\lib\\site-packages\\keras\\engine\\training.py\", line 1051, in train_function\n      return step_function(self, iterator)\n    File \"c:\\users\\alexi\\appdata\\local\\programs\\python\\python39\\lib\\site-packages\\keras\\engine\\training.py\", line 1040, in step_function\n      outputs = model.distribute_strategy.run(run_step, args=(data,))\n    File \"c:\\users\\alexi\\appdata\\local\\programs\\python\\python39\\lib\\site-packages\\keras\\engine\\training.py\", line 1030, in run_step\n      outputs = model.train_step(data)\n    File \"c:\\users\\alexi\\appdata\\local\\programs\\python\\python39\\lib\\site-packages\\keras\\engine\\training.py\", line 889, in train_step\n      y_pred = self(x, training=True)\n    File \"c:\\users\\alexi\\appdata\\local\\programs\\python\\python39\\lib\\site-packages\\keras\\utils\\traceback_utils.py\", line 64, in error_handler\n      return fn(*args, **kwargs)\n    File \"c:\\users\\alexi\\appdata\\local\\programs\\python\\python39\\lib\\site-packages\\keras\\engine\\training.py\", line 490, in __call__\n      return super().__call__(*args, **kwargs)\n    File \"c:\\users\\alexi\\appdata\\local\\programs\\python\\python39\\lib\\site-packages\\keras\\utils\\traceback_utils.py\", line 64, in error_handler\n      return fn(*args, **kwargs)\n    File \"c:\\users\\alexi\\appdata\\local\\programs\\python\\python39\\lib\\site-packages\\keras\\engine\\base_layer.py\", line 1014, in __call__\n      outputs = call_fn(inputs, *args, **kwargs)\n    File \"c:\\users\\alexi\\appdata\\local\\programs\\python\\python39\\lib\\site-packages\\keras\\utils\\traceback_utils.py\", line 92, in error_handler\n      return fn(*args, **kwargs)\n    File \"c:\\users\\alexi\\appdata\\local\\programs\\python\\python39\\lib\\site-packages\\keras\\engine\\functional.py\", line 458, in call\n      return self._run_internal_graph(\n    File \"c:\\users\\alexi\\appdata\\local\\programs\\python\\python39\\lib\\site-packages\\keras\\engine\\functional.py\", line 596, in _run_internal_graph\n      outputs = node.layer(*args, **kwargs)\n    File \"c:\\users\\alexi\\appdata\\local\\programs\\python\\python39\\lib\\site-packages\\keras\\utils\\traceback_utils.py\", line 64, in error_handler\n      return fn(*args, **kwargs)\n    File \"c:\\users\\alexi\\appdata\\local\\programs\\python\\python39\\lib\\site-packages\\keras\\engine\\base_layer.py\", line 1014, in __call__\n      outputs = call_fn(inputs, *args, **kwargs)\n    File \"c:\\users\\alexi\\appdata\\local\\programs\\python\\python39\\lib\\site-packages\\keras\\utils\\traceback_utils.py\", line 92, in error_handler\n      return fn(*args, **kwargs)\n    File \"c:\\users\\alexi\\appdata\\local\\programs\\python\\python39\\lib\\site-packages\\keras\\layers\\convolutional\\base_conv.py\", line 278, in call\n      return self.activation(outputs)\n    File \"c:\\users\\alexi\\appdata\\local\\programs\\python\\python39\\lib\\site-packages\\keras\\activations.py\", line 311, in relu\n      return backend.relu(x, alpha=alpha, max_value=max_value, threshold=threshold)\n    File \"c:\\users\\alexi\\appdata\\local\\programs\\python\\python39\\lib\\site-packages\\keras\\backend.py\", line 4992, in relu\n      x = tf.nn.relu(x)\nNode: 'u-netmodel/conv2d_169/Relu'\nFused conv implementation does not support grouped convolutions for now.\n\t [[{{node u-netmodel/conv2d_169/Relu}}]] [Op:__inference_train_function_13429]"
     ]
    }
   ],
   "source": [
    "model.fit(\n",
    "        train_dataset,\n",
    "        epochs=5,\n",
    "        validation_data = val_dataset,\n",
    "        callbacks = callbacks_list\n",
    "        )"
   ]
  },
  {
   "cell_type": "code",
   "execution_count": 71,
   "id": "91426a87",
   "metadata": {},
   "outputs": [],
   "source": [
    "# Draw the predicted bounding boxes\n",
    "def display_image(img, bbox_coords, pred_coords):\n",
    "    if len(bbox_coords) == 4: #in rosso\n",
    "        xmin, ymin, height, width = bbox_coords\n",
    "        img = cv2.rectangle(img, (int(xmin-height/2), int(ymin-width/2)), (int(xmin+height/2), int(ymin+width/2)), (255, 0, 0), 1)\n",
    "        \n",
    "    if len(pred_coords) == 4: #in verde\n",
    "        xmin1, ymin1, height1, width1 = pred_coords\n",
    "        img = cv2.rectangle(img, (int(xmin1-height1/2), int(ymin1-width1/2)), (int(xmin1+height1/2), int(ymin1+width1/2)), (0, 255, 0), 1)\n",
    "    plt.imshow(img)\n",
    "    plt.xticks([])\n",
    "    plt.yticks([])"
   ]
  },
  {
   "cell_type": "code",
   "execution_count": 72,
   "id": "adb14654",
   "metadata": {},
   "outputs": [],
   "source": [
    "#To test the model\n",
    "def test_model(model):\n",
    "    rand_index = np.random.randint(0, bb_test.shape[0])\n",
    "    pred_bbox = model.predict(X_test)[rand_index]\n",
    "    img_original = X_test[rand_index]\n",
    "    img = img_original.copy()\n",
    "    coords = bb_test[rand_index]\n",
    "    #example, label = next(datagen)\n",
    "    #X = example['image']\n",
    "    #y = label['coords']\n",
    "    #pred_bbox = model.predict(X)[0]\n",
    "    #img = X[0]\n",
    "    #gt_coords = y[0]\n",
    "    \n",
    "    display_image(img,bbox_coords = coords, pred_coords=pred_bbox)\n",
    "\n",
    "def test(model):\n",
    "    \n",
    "    plt.figure(figsize=(15,7))\n",
    "    for i in range(3):\n",
    "        plt.subplot(1, 3, i + 1)\n",
    "        test_model(model)    \n",
    "    plt.show()\n",
    "\n",
    "class ShowTestImages(tf.keras.callbacks.Callback):\n",
    "    def on_epoch_end(self, epoch, logs=None):\n",
    "        test(self.model)\n",
    "        "
   ]
  },
  {
   "cell_type": "code",
   "execution_count": 49,
   "id": "f15bde1b",
   "metadata": {},
   "outputs": [
    {
     "name": "stderr",
     "output_type": "stream",
     "text": [
      "WARNING:absl:Found untraced functions such as _jit_compiled_convolution_op, _jit_compiled_convolution_op, _jit_compiled_convolution_op, _jit_compiled_convolution_op, _jit_compiled_convolution_op while saving (showing 5 of 81). These functions will not be directly callable after loading.\n"
     ]
    },
    {
     "name": "stdout",
     "output_type": "stream",
     "text": [
      "INFO:tensorflow:Assets written to: ./model_efficientNet\\assets\n"
     ]
    },
    {
     "name": "stderr",
     "output_type": "stream",
     "text": [
      "INFO:tensorflow:Assets written to: ./model_efficientNet\\assets\n"
     ]
    }
   ],
   "source": [
    "#Save model\n",
    "model.save('./model_efficientNet')"
   ]
  },
  {
   "cell_type": "code",
   "execution_count": 37,
   "id": "86f2016c",
   "metadata": {},
   "outputs": [
    {
     "name": "stdout",
     "output_type": "stream",
     "text": [
      "WARNING:tensorflow:Using a while_loop for converting RngReadAndSkip\n"
     ]
    },
    {
     "name": "stderr",
     "output_type": "stream",
     "text": [
      "WARNING:tensorflow:Using a while_loop for converting RngReadAndSkip\n"
     ]
    },
    {
     "name": "stdout",
     "output_type": "stream",
     "text": [
      "WARNING:tensorflow:Using a while_loop for converting Bitcast\n"
     ]
    },
    {
     "name": "stderr",
     "output_type": "stream",
     "text": [
      "WARNING:tensorflow:Using a while_loop for converting Bitcast\n"
     ]
    },
    {
     "name": "stdout",
     "output_type": "stream",
     "text": [
      "WARNING:tensorflow:Using a while_loop for converting Bitcast\n"
     ]
    },
    {
     "name": "stderr",
     "output_type": "stream",
     "text": [
      "WARNING:tensorflow:Using a while_loop for converting Bitcast\n"
     ]
    },
    {
     "name": "stdout",
     "output_type": "stream",
     "text": [
      "WARNING:tensorflow:Using a while_loop for converting StatelessRandomUniformFullIntV2\n"
     ]
    },
    {
     "name": "stderr",
     "output_type": "stream",
     "text": [
      "WARNING:tensorflow:Using a while_loop for converting StatelessRandomUniformFullIntV2\n"
     ]
    },
    {
     "name": "stdout",
     "output_type": "stream",
     "text": [
      "WARNING:tensorflow:Using a while_loop for converting StatelessRandomGetKeyCounter\n"
     ]
    },
    {
     "name": "stderr",
     "output_type": "stream",
     "text": [
      "WARNING:tensorflow:Using a while_loop for converting StatelessRandomGetKeyCounter\n"
     ]
    },
    {
     "name": "stdout",
     "output_type": "stream",
     "text": [
      "WARNING:tensorflow:Using a while_loop for converting StatelessRandomUniformV2\n"
     ]
    },
    {
     "name": "stderr",
     "output_type": "stream",
     "text": [
      "WARNING:tensorflow:Using a while_loop for converting StatelessRandomUniformV2\n"
     ]
    },
    {
     "name": "stdout",
     "output_type": "stream",
     "text": [
      "WARNING:tensorflow:Using a while_loop for converting AdjustContrastv2\n"
     ]
    },
    {
     "name": "stderr",
     "output_type": "stream",
     "text": [
      "WARNING:tensorflow:Using a while_loop for converting AdjustContrastv2\n"
     ]
    },
    {
     "name": "stdout",
     "output_type": "stream",
     "text": [
      "WARNING:tensorflow:Using a while_loop for converting RngReadAndSkip\n"
     ]
    },
    {
     "name": "stderr",
     "output_type": "stream",
     "text": [
      "WARNING:tensorflow:Using a while_loop for converting RngReadAndSkip\n"
     ]
    },
    {
     "name": "stdout",
     "output_type": "stream",
     "text": [
      "WARNING:tensorflow:Using a while_loop for converting Bitcast\n"
     ]
    },
    {
     "name": "stderr",
     "output_type": "stream",
     "text": [
      "WARNING:tensorflow:Using a while_loop for converting Bitcast\n"
     ]
    },
    {
     "name": "stdout",
     "output_type": "stream",
     "text": [
      "WARNING:tensorflow:Using a while_loop for converting Bitcast\n"
     ]
    },
    {
     "name": "stderr",
     "output_type": "stream",
     "text": [
      "WARNING:tensorflow:Using a while_loop for converting Bitcast\n"
     ]
    },
    {
     "name": "stdout",
     "output_type": "stream",
     "text": [
      "WARNING:tensorflow:Using a while_loop for converting StatelessRandomUniformFullIntV2\n"
     ]
    },
    {
     "name": "stderr",
     "output_type": "stream",
     "text": [
      "WARNING:tensorflow:Using a while_loop for converting StatelessRandomUniformFullIntV2\n"
     ]
    },
    {
     "name": "stdout",
     "output_type": "stream",
     "text": [
      "WARNING:tensorflow:Using a while_loop for converting StatelessRandomGetKeyCounter\n"
     ]
    },
    {
     "name": "stderr",
     "output_type": "stream",
     "text": [
      "WARNING:tensorflow:Using a while_loop for converting StatelessRandomGetKeyCounter\n"
     ]
    },
    {
     "name": "stdout",
     "output_type": "stream",
     "text": [
      "WARNING:tensorflow:Using a while_loop for converting StatelessRandomUniformV2\n"
     ]
    },
    {
     "name": "stderr",
     "output_type": "stream",
     "text": [
      "WARNING:tensorflow:Using a while_loop for converting StatelessRandomUniformV2\n"
     ]
    },
    {
     "name": "stdout",
     "output_type": "stream",
     "text": [
      "WARNING:tensorflow:Using a while_loop for converting AdjustContrastv2\n"
     ]
    },
    {
     "name": "stderr",
     "output_type": "stream",
     "text": [
      "WARNING:tensorflow:Using a while_loop for converting AdjustContrastv2\n"
     ]
    },
    {
     "name": "stdout",
     "output_type": "stream",
     "text": [
      "WARNING:tensorflow:Using a while_loop for converting RngReadAndSkip\n"
     ]
    },
    {
     "name": "stderr",
     "output_type": "stream",
     "text": [
      "WARNING:tensorflow:Using a while_loop for converting RngReadAndSkip\n"
     ]
    },
    {
     "name": "stdout",
     "output_type": "stream",
     "text": [
      "WARNING:tensorflow:Using a while_loop for converting Bitcast\n"
     ]
    },
    {
     "name": "stderr",
     "output_type": "stream",
     "text": [
      "WARNING:tensorflow:Using a while_loop for converting Bitcast\n"
     ]
    },
    {
     "name": "stdout",
     "output_type": "stream",
     "text": [
      "WARNING:tensorflow:Using a while_loop for converting Bitcast\n"
     ]
    },
    {
     "name": "stderr",
     "output_type": "stream",
     "text": [
      "WARNING:tensorflow:Using a while_loop for converting Bitcast\n"
     ]
    },
    {
     "name": "stdout",
     "output_type": "stream",
     "text": [
      "WARNING:tensorflow:Using a while_loop for converting StatelessRandomUniformFullIntV2\n"
     ]
    },
    {
     "name": "stderr",
     "output_type": "stream",
     "text": [
      "WARNING:tensorflow:Using a while_loop for converting StatelessRandomUniformFullIntV2\n"
     ]
    },
    {
     "name": "stdout",
     "output_type": "stream",
     "text": [
      "WARNING:tensorflow:Using a while_loop for converting StatelessRandomGetKeyCounter\n"
     ]
    },
    {
     "name": "stderr",
     "output_type": "stream",
     "text": [
      "WARNING:tensorflow:Using a while_loop for converting StatelessRandomGetKeyCounter\n"
     ]
    },
    {
     "name": "stdout",
     "output_type": "stream",
     "text": [
      "WARNING:tensorflow:Using a while_loop for converting StatelessRandomUniformV2\n"
     ]
    },
    {
     "name": "stderr",
     "output_type": "stream",
     "text": [
      "WARNING:tensorflow:Using a while_loop for converting StatelessRandomUniformV2\n"
     ]
    },
    {
     "name": "stdout",
     "output_type": "stream",
     "text": [
      "WARNING:tensorflow:Using a while_loop for converting AdjustContrastv2\n"
     ]
    },
    {
     "name": "stderr",
     "output_type": "stream",
     "text": [
      "WARNING:tensorflow:Using a while_loop for converting AdjustContrastv2\n"
     ]
    },
    {
     "name": "stdout",
     "output_type": "stream",
     "text": [
      "WARNING:tensorflow:Using a while_loop for converting RngReadAndSkip\n"
     ]
    },
    {
     "name": "stderr",
     "output_type": "stream",
     "text": [
      "WARNING:tensorflow:Using a while_loop for converting RngReadAndSkip\n"
     ]
    },
    {
     "name": "stdout",
     "output_type": "stream",
     "text": [
      "WARNING:tensorflow:Using a while_loop for converting Bitcast\n"
     ]
    },
    {
     "name": "stderr",
     "output_type": "stream",
     "text": [
      "WARNING:tensorflow:Using a while_loop for converting Bitcast\n"
     ]
    },
    {
     "name": "stdout",
     "output_type": "stream",
     "text": [
      "WARNING:tensorflow:Using a while_loop for converting Bitcast\n"
     ]
    },
    {
     "name": "stderr",
     "output_type": "stream",
     "text": [
      "WARNING:tensorflow:Using a while_loop for converting Bitcast\n"
     ]
    },
    {
     "name": "stdout",
     "output_type": "stream",
     "text": [
      "WARNING:tensorflow:Using a while_loop for converting StatelessRandomUniformFullIntV2\n"
     ]
    },
    {
     "name": "stderr",
     "output_type": "stream",
     "text": [
      "WARNING:tensorflow:Using a while_loop for converting StatelessRandomUniformFullIntV2\n"
     ]
    },
    {
     "name": "stdout",
     "output_type": "stream",
     "text": [
      "WARNING:tensorflow:Using a while_loop for converting StatelessRandomGetKeyCounter\n"
     ]
    },
    {
     "name": "stderr",
     "output_type": "stream",
     "text": [
      "WARNING:tensorflow:Using a while_loop for converting StatelessRandomGetKeyCounter\n"
     ]
    },
    {
     "name": "stdout",
     "output_type": "stream",
     "text": [
      "WARNING:tensorflow:Using a while_loop for converting StatelessRandomUniformV2\n"
     ]
    },
    {
     "name": "stderr",
     "output_type": "stream",
     "text": [
      "WARNING:tensorflow:Using a while_loop for converting StatelessRandomUniformV2\n"
     ]
    },
    {
     "name": "stdout",
     "output_type": "stream",
     "text": [
      "WARNING:tensorflow:Using a while_loop for converting AdjustContrastv2\n"
     ]
    },
    {
     "name": "stderr",
     "output_type": "stream",
     "text": [
      "WARNING:tensorflow:Using a while_loop for converting AdjustContrastv2\n",
      "WARNING:absl:Found untraced functions such as _jit_compiled_convolution_op, _jit_compiled_convolution_op, _jit_compiled_convolution_op, _jit_compiled_convolution_op, _jit_compiled_convolution_op while saving (showing 5 of 81). These functions will not be directly callable after loading.\n"
     ]
    },
    {
     "name": "stdout",
     "output_type": "stream",
     "text": [
      "INFO:tensorflow:Assets written to: ./model_from_scratch\\assets\n"
     ]
    },
    {
     "name": "stderr",
     "output_type": "stream",
     "text": [
      "INFO:tensorflow:Assets written to: ./model_from_scratch\\assets\n"
     ]
    }
   ],
   "source": [
    "#Save model\n",
    "model.save('./model_from_scratch')"
   ]
  },
  {
   "cell_type": "code",
   "execution_count": 12,
   "id": "ece56a65",
   "metadata": {},
   "outputs": [],
   "source": [
    "model = tf.keras.models.load_model('./model_efficientNet')"
   ]
  },
  {
   "cell_type": "code",
   "execution_count": 36,
   "id": "43ad036e",
   "metadata": {},
   "outputs": [],
   "source": [
    "model = tf.keras.models.load_model('./model_from_scratch')"
   ]
  },
  {
   "cell_type": "code",
   "execution_count": 50,
   "id": "b44de4d4",
   "metadata": {},
   "outputs": [
    {
     "data": {
      "text/plain": [
       "<AxesSubplot:>"
      ]
     },
     "execution_count": 50,
     "metadata": {},
     "output_type": "execute_result"
    },
    {
     "data": {
      "image/png": "[encoded data removed]",
      "text/plain": [
       "<Figure size 640x480 with 1 Axes>"
      ]
     },
     "metadata": {},
     "output_type": "display_data"
    }
   ],
   "source": [
    "pd.DataFrame(model.history.history).plot()"
   ]
  },
  {
   "cell_type": "code",
   "execution_count": null,
   "id": "d4142b7c",
   "metadata": {},
   "outputs": [],
   "source": []
  }
 ],
 "metadata": {
  "kernelspec": {
   "display_name": "Python 3 (ipykernel)",
   "language": "python",
   "name": "python3"
  },
  "language_info": {
   "codemirror_mode": {
    "name": "ipython",
    "version": 3
   },
   "file_extension": ".py",
   "mimetype": "text/x-python",
   "name": "python",
   "nbconvert_exporter": "python",
   "pygments_lexer": "ipython3",
   "version": "3.9.2"
  }
 },
 "nbformat": 4,
 "nbformat_minor": 5
}
